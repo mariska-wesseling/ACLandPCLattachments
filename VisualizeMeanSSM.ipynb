{
 "cells": [
  {
   "cell_type": "markdown",
   "id": "85e5e2e4-aac7-4e29-beb2-725fd4934c4c",
   "metadata": {},
   "source": [
    "# Interactive figure ligament attachment locations anterior and posterior cruciate ligaments\n",
    "3D figures showing the ligament attachment locations of the ACL and PCL ligaments on the mean SSM shape of the femur and tibia.\n",
    "Interactive figure for paper:\n",
    "Voskuijl, T., Wesseling, M., Pennings, M., Piscaer, T., Hanff, D., Meuffels, D.E. \"The adaption of anterior and posterior cruciate ligament attachment sites to the variance of three dimensional bony knee shapes\". Submitted to "
   ]
  },
  {
   "cell_type": "markdown",
   "id": "65b03f42-0f5e-4433-bbc1-9d9479691852",
   "metadata": {},
   "source": [
    "Install required packages"
   ]
  },
  {
   "cell_type": "code",
   "execution_count": 1,
   "id": "0a85e4e1-b480-4f37-a5de-4d2098d01e66",
   "metadata": {
    "tags": []
   },
   "outputs": [],
   "source": [
    "#! pip install vtk\n",
    "#! pip install trimesh\n",
    "#! pip install seaborn\n",
    "#! pip install pyvista\n",
    "#! pip install pythreejs"
   ]
  },
  {
   "cell_type": "markdown",
   "id": "54ddf022-251d-427d-a33a-6305fe69aa57",
   "metadata": {},
   "source": [
    "Import required libraries"
   ]
  },
  {
   "cell_type": "code",
   "execution_count": 2,
   "id": "9ad2e1fd-d4a4-48d2-8966-671b64ce093d",
   "metadata": {},
   "outputs": [],
   "source": [
    "import os\n",
    "import vtk\n",
    "import trimesh\n",
    "import numpy as np\n",
    "import seaborn as sns\n",
    "import pyvista as pv"
   ]
  },
  {
   "cell_type": "markdown",
   "id": "176e33a2-d0a1-4124-9f75-a993904edf03",
   "metadata": {},
   "source": [
    "Function to create pointcloud that represents attachment regions"
   ]
  },
  {
   "cell_type": "code",
   "execution_count": 3,
   "id": "4efddfba-c04e-4023-8f6c-fdca0a5f25de",
   "metadata": {},
   "outputs": [],
   "source": [
    "def create_pointcloud_polydata(points, colors=None, seg=None):\n",
    "\n",
    "    vpoints = vtk.vtkPoints()\n",
    "    vpoints.SetNumberOfPoints(points.shape[0])\n",
    "    for i in range(points.shape[0]):\n",
    "        vpoints.SetPoint(i, points[i])\n",
    "\n",
    "    vpoly = vtk.vtkPolyData()\n",
    "    vpoly.SetPoints(vpoints)\n",
    "    rgb_col = []\n",
    "    if not colors is None:\n",
    "        if seg == 'femur':\n",
    "            max_val=8\n",
    "            color[112:len(color)] = (color[112:len(color)]/max_val)*10\n",
    "        vcolors = vtk.vtkUnsignedCharArray()\n",
    "        vcolors.SetNumberOfComponents(3)\n",
    "        vcolors.SetName(\"Colors\")\n",
    "        vcolors.SetNumberOfTuples(points.shape[0])\n",
    "        rgb_col = []\n",
    "        for i in range(points.shape[0]):\n",
    "            c = sns.color_palette(\"viridis_r\", n_colors=101, as_cmap=False)\n",
    "            vcolors.SetTuple3(i, c[int(colors[i] *10)][0]*255, c[int(colors[i] *10)][1]*255, c[int(colors[i] *10)][2]*255)\n",
    "            rgb_col.append([c[int(colors[i] *10)][0] * 255, c[int(colors[i] *10)][1] * 255, c[int(colors[i] *10)][2] * 255])\n",
    "        vpoly.GetPointData().SetScalars(vcolors)\n",
    "\n",
    "    vcells = vtk.vtkCellArray()\n",
    "\n",
    "    for i in range(points.shape[0]):\n",
    "        vcells.InsertNextCell(1)\n",
    "        vcells.InsertCellPoint(i)\n",
    "\n",
    "    vpoly.SetVerts(vcells)\n",
    "\n",
    "    return vpoly, rgb_col"
   ]
  },
  {
   "cell_type": "markdown",
   "id": "f1b90cf6-d3c5-40d5-9299-c60dc1aa510b",
   "metadata": {},
   "source": [
    "Function to load STL file"
   ]
  },
  {
   "cell_type": "code",
   "execution_count": 4,
   "id": "8f40bba1-dcd8-4d37-9682-d7d19e21bea0",
   "metadata": {},
   "outputs": [],
   "source": [
    "def load_stl(filename):\n",
    "    reader = vtk.vtkSTLReader()\n",
    "    reader.SetFileName(filename)\n",
    "\n",
    "    mapper = vtk.vtkPolyDataMapper()\n",
    "    if vtk.VTK_MAJOR_VERSION <= 5:\n",
    "        mapper.SetInput(reader.GetOutput())\n",
    "    else:\n",
    "        mapper.SetInputConnection(reader.GetOutputPort())\n",
    "\n",
    "    actor = vtk.vtkActor()\n",
    "    actor.SetMapper(mapper)\n",
    "\n",
    "    return actor"
   ]
  },
  {
   "cell_type": "markdown",
   "id": "c5029e33-bd8b-4653-a785-f06f980fb543",
   "metadata": {},
   "source": [
    "### Femur attachments"
   ]
  },
  {
   "cell_type": "markdown",
   "id": "56ae25b4-d99b-4ddf-81dd-26285834f9fd",
   "metadata": {},
   "source": [
    "Define variables"
   ]
  },
  {
   "cell_type": "code",
   "execution_count": 5,
   "id": "77dfff23-beb1-413e-b73b-c20a9e00245f",
   "metadata": {},
   "outputs": [],
   "source": [
    "segment = 'femur'\n",
    "center_femur = np.concatenate((np.arange(112),np.arange(341-263)+263))  # PCL + ACL\n",
    "center = center_femur"
   ]
  },
  {
   "cell_type": "markdown",
   "id": "14e03598-c3ac-4706-a503-b18a06d7dada",
   "metadata": {},
   "source": [
    "Path to bone files"
   ]
  },
  {
   "cell_type": "code",
   "execution_count": 6,
   "id": "e418af21-2c51-441b-8e2c-94d800a1fd73",
   "metadata": {},
   "outputs": [],
   "source": [
    "path = os.path.join(r'./data/' + segment)"
   ]
  },
  {
   "cell_type": "markdown",
   "id": "70f93a0e-6d37-4c52-ae78-cc346d2e082c",
   "metadata": {},
   "source": [
    "Load mean SSM and ligament attachment locations"
   ]
  },
  {
   "cell_type": "code",
   "execution_count": 7,
   "id": "154780b1-e011-4a8c-8935-03900ef064d2",
   "metadata": {},
   "outputs": [],
   "source": [
    "points_lig = trimesh.load_mesh(path + '\\meanshape_ligs_color.xyz')\n",
    "color = np.loadtxt(path + r'\\meanshape_ligs_color.xyz')[:, 3]\n",
    "\n",
    "points_lig = points_lig[center]\n",
    "color = color[center]\n",
    "\n",
    "point_cloud_lig, rgb_col = create_pointcloud_polydata(points_lig, colors=color, seg=segment)\n",
    "bone_actor = load_stl(path + '/mean_shape.stl')\n",
    "bone_actor.GetProperty().SetOpacity(1.0)"
   ]
  },
  {
   "cell_type": "markdown",
   "id": "ea25079c-f397-4661-a92e-e59128ab29c4",
   "metadata": {},
   "source": [
    "Create actors"
   ]
  },
  {
   "cell_type": "code",
   "execution_count": 8,
   "id": "d587c057-3e90-4632-9c92-f54a34f9aa7f",
   "metadata": {},
   "outputs": [],
   "source": [
    "bone_actor.GetProperty().SetColor(0.89, 0.85, 0.79)\n",
    "mapper2 = vtk.vtkPolyDataMapper()\n",
    "mapper2.SetInputData(point_cloud_lig)\n",
    "actor2 = vtk.vtkActor()\n",
    "actor2.SetMapper(mapper2)\n",
    "actor2.GetProperty().SetColor(1, 0, 0)\n",
    "actor2.GetProperty().SetPointSize(7.5)"
   ]
  },
  {
   "cell_type": "markdown",
   "id": "018a9286-c797-47fb-a793-407ec1c7c7c9",
   "metadata": {},
   "source": [
    "Set colors for ligament attachment points depending on the number of specimens in which each point was identified as attachment region"
   ]
  },
  {
   "cell_type": "code",
   "execution_count": 9,
   "id": "4b4318f7-1dea-4975-a368-f4cfe9840485",
   "metadata": {},
   "outputs": [],
   "source": [
    "c = sns.color_palette(\"viridis_r\", n_colors=101, as_cmap=False)\n",
    "lut = vtk.vtkLookupTable()\n",
    "lut.SetNumberOfColors(11)\n",
    "lut.SetTableRange(1, 11)\n",
    "for j in range(0,11):\n",
    "    lut.SetTableValue(int(j*1), c[j*10][0], c[j*10][1], c[j*10][2])"
   ]
  },
  {
   "cell_type": "markdown",
   "id": "d8c62a61-76b1-4ae0-b8f9-3684a41d2d68",
   "metadata": {},
   "source": [
    "Create legend"
   ]
  },
  {
   "cell_type": "code",
   "execution_count": 10,
   "id": "8b2c983b-43b9-4e52-b489-821eb41d9e1e",
   "metadata": {},
   "outputs": [],
   "source": [
    "legend = vtk.vtkScalarBarActor()\n",
    "labelFormat = vtk.vtkTextProperty()\n",
    "labelFormat.SetFontSize(16)\n",
    "titleFormat = vtk.vtkTextProperty()\n",
    "titleFormat.SetFontSize(8)\n",
    "legend.SetLabelTextProperty(labelFormat)\n",
    "\n",
    "legend.SetNumberOfLabels(11)\n",
    "lut.SetTableRange(0, 100)\n",
    "legend.SetLookupTable(lut)\n",
    "\n",
    "legend.SetTitle(\"% of specimens \\n\")\n",
    "legend.SetLabelFormat(\"%1.0f\")\n",
    "legend.SetUnconstrainedFontSize(1)\n",
    "\n",
    "text_prop_cb = legend.GetLabelTextProperty()\n",
    "text_prop_cb.SetFontFamilyAsString('Arial')\n",
    "text_prop_cb.SetFontFamilyToArial()\n",
    "text_prop_cb.SetColor(0,0,0)\n",
    "text_prop_cb.ShadowOff()\n",
    "legend.SetLabelTextProperty(text_prop_cb)\n",
    "legend.SetMaximumWidthInPixels(75)\n",
    "legend.SetMaximumHeightInPixels(300)\n",
    "legend.SetTitleTextProperty(text_prop_cb)\n",
    "legend.SetPosition(0.85,0.5)"
   ]
  },
  {
   "cell_type": "markdown",
   "id": "21820712-33a4-4fe4-b97d-0e6381d975b6",
   "metadata": {},
   "source": [
    "Visualize bone and attachment locations"
   ]
  },
  {
   "cell_type": "code",
   "execution_count": 11,
   "id": "c98f226f-a28a-4e44-a342-5771f4984d63",
   "metadata": {},
   "outputs": [
    {
     "data": {
      "application/vnd.jupyter.widget-view+json": {
       "model_id": "dd208c6057af4d6696067520b403e9ee",
       "version_major": 2,
       "version_minor": 0
      },
      "text/plain": [
       "ViewInteractiveWidget(height=900, layout=Layout(height='auto', width='100%'), width=900)"
      ]
     },
     "metadata": {},
     "output_type": "display_data"
    }
   ],
   "source": [
    "plotter = pv.Plotter(window_size=(900, 900),notebook=True)\n",
    "\n",
    "# bla=pv.PolyData(point_cloud_lig)\n",
    "# bla.plot()\n",
    "\n",
    "plotter.background_color = 'w'\n",
    "#plotter.enable_anti_aliasing()\n",
    "plotter.add_actor(bone_actor)\n",
    "plotter.add_mesh(point_cloud_lig, show_scalar_bar=False)\n",
    "plotter.add_actor(legend)\n",
    "\n",
    "pv.set_plot_theme(\"document\")\n",
    "plotter.show()"
   ]
  },
  {
   "cell_type": "code",
   "execution_count": 13,
   "id": "cd376163",
   "metadata": {},
   "outputs": [
    {
     "data": {
      "application/vnd.jupyter.widget-view+json": {
       "model_id": "aee45e50ed6746e69e7e02c8392f989a",
       "version_major": 2,
       "version_minor": 0
      },
      "text/plain": [
       "ViewInteractiveWidget(height=768, layout=Layout(height='auto', width='100%'), width=1024)"
      ]
     },
     "metadata": {},
     "output_type": "display_data"
    }
   ],
   "source": [
    "spheres=[]\n",
    "plotter = pv.Plotter()\n",
    "for i in range(0,len(points_lig)):\n",
    "    spheres.append(pv.Sphere(center=points_lig[i], radius=0.25))\n",
    "    cols = np.tile(rgb_col[i], (spheres[i].number_of_points,1))\n",
    "    spheres[i][\"colors\"] = cols\n",
    "    plotter.add_mesh(spheres[i])\n",
    "\n",
    "plotter.add_actor(bone_actor)\n",
    "plotter.add_actor(legend)\n",
    "pv.set_plot_theme(\"document\")\n",
    "plotter.show()  # show the two spheres from two PolyData\n",
    "\n",
    "plotter.export_html(r\"C:\\Users\\mariskawesseli\\Documents\\GitLab\\2022_JCWMSK_tutorials\\SSMfemur.html\")"
   ]
  },
  {
   "cell_type": "code",
   "execution_count": 14,
   "id": "990d654f",
   "metadata": {},
   "outputs": [],
   "source": [
    "# plotter = pv.Plotter(window_size=(900, 900),notebook=True)\n",
    "# mesh= pv.read(r\"C:\\Users\\mariskawesseli\\Documents\\GitLab\\femur_lig_ply_col.ply\")\n",
    "# scalars = mesh['RGBA']\n",
    "# plotter.add_actor(bone_actor)\n",
    "# plotter.add_mesh(mesh, show_scalar_bar=False, scalars=scalars[:,0:3])\n",
    "# plotter.add_actor(legend)\n",
    "# pv.set_plot_theme(\"document\")\n",
    "# plotter.show()\n",
    "\n",
    "# plotter.export_html(r\"C:\\Users\\mariskawesseli\\Documents\\GitLab\\2022_JCWMSK_tutorials\\SSMfemur.html\")"
   ]
  },
  {
   "cell_type": "markdown",
   "id": "9ae0ddf1-b716-4e73-ab28-06015b2a8bc7",
   "metadata": {
    "tags": []
   },
   "source": [
    "### Tibia"
   ]
  },
  {
   "cell_type": "markdown",
   "id": "1ce09a3c-0311-4047-884e-9033530412c0",
   "metadata": {},
   "source": [
    "Define variables"
   ]
  },
  {
   "cell_type": "code",
   "execution_count": 15,
   "id": "dedd30e3-4598-4b88-9d0d-e8b4b6fe5f26",
   "metadata": {},
   "outputs": [],
   "source": [
    "segment = 'tibia'\n",
    "center_tibia = np.concatenate((np.arange(131),np.arange(470-341)+341))  # PCL + ACL\n",
    "center = center_tibia"
   ]
  },
  {
   "cell_type": "markdown",
   "id": "075b81cd-8176-4b48-87f8-9c151951a7a8",
   "metadata": {},
   "source": [
    "Path to bone files"
   ]
  },
  {
   "cell_type": "code",
   "execution_count": 16,
   "id": "eeb6abea-1e7c-42a3-be1c-6a0d1730ff58",
   "metadata": {},
   "outputs": [],
   "source": [
    "path = os.path.join(r'./data/' + segment)"
   ]
  },
  {
   "cell_type": "markdown",
   "id": "11ca3571-06e8-49eb-a610-bef66f8057a3",
   "metadata": {},
   "source": [
    "Load mean SSM and ligament attachment locations"
   ]
  },
  {
   "cell_type": "code",
   "execution_count": 17,
   "id": "2445f518-0319-4075-800b-d35bdabe434a",
   "metadata": {},
   "outputs": [],
   "source": [
    "points_lig = trimesh.load_mesh(path + '\\meanshape_ligs_color.xyz')\n",
    "color = np.loadtxt(path + r'\\meanshape_ligs_color.xyz')[:, 3]\n",
    "\n",
    "points_lig = points_lig[center]\n",
    "color = color[center]\n",
    "\n",
    "point_cloud_lig, rgb_col = create_pointcloud_polydata(points_lig, colors=color, seg=segment)\n",
    "bone_actor = load_stl(path + '/mean_shape.stl')\n",
    "bone_actor.GetProperty().SetOpacity(1.0)"
   ]
  },
  {
   "cell_type": "markdown",
   "id": "59c3faa7-6783-4203-bb08-141891633172",
   "metadata": {},
   "source": [
    "Create actors"
   ]
  },
  {
   "cell_type": "code",
   "execution_count": 18,
   "id": "606f3104-8996-4529-b101-796ac53e00c2",
   "metadata": {},
   "outputs": [],
   "source": [
    "bone_actor.GetProperty().SetColor(0.89, 0.85, 0.79)\n",
    "mapper2 = vtk.vtkPolyDataMapper()\n",
    "mapper2.SetInputData(point_cloud_lig)\n",
    "actor2 = vtk.vtkActor()\n",
    "actor2.SetMapper(mapper2)\n",
    "actor2.GetProperty().SetColor(1, 0, 0)\n",
    "actor2.GetProperty().SetPointSize(7.5)"
   ]
  },
  {
   "cell_type": "markdown",
   "id": "c336cfc1-921c-49fc-afee-9d437eba70dd",
   "metadata": {},
   "source": [
    "Visualize bone and attachment locations"
   ]
  },
  {
   "cell_type": "code",
   "execution_count": 19,
   "id": "cd8b342b-39bd-4bcb-b0f6-f25d6d3edc2e",
   "metadata": {},
   "outputs": [
    {
     "data": {
      "application/vnd.jupyter.widget-view+json": {
       "model_id": "278f323878ef45eba11f5d340b212af3",
       "version_major": 2,
       "version_minor": 0
      },
      "text/plain": [
       "ViewInteractiveWidget(height=900, layout=Layout(height='auto', width='100%'), width=900)"
      ]
     },
     "metadata": {},
     "output_type": "display_data"
    }
   ],
   "source": [
    "plotter = pv.Plotter(window_size=(900, 900),notebook=True)\n",
    "\n",
    "plotter.background_color = 'w'\n",
    "plotter.enable_anti_aliasing()\n",
    "plotter.add_actor(bone_actor)\n",
    "plotter.add_mesh(point_cloud_lig, show_scalar_bar=False)\n",
    "plotter.add_actor(legend)\n",
    "\n",
    "pv.set_plot_theme(\"document\")\n",
    "\n",
    "plotter.show()"
   ]
  },
  {
   "cell_type": "code",
   "execution_count": 20,
   "id": "944d007a",
   "metadata": {},
   "outputs": [
    {
     "data": {
      "application/vnd.jupyter.widget-view+json": {
       "model_id": "85366469fecb4683975db877749f97ed",
       "version_major": 2,
       "version_minor": 0
      },
      "text/plain": [
       "ViewInteractiveWidget(height=768, layout=Layout(height='auto', width='100%'), width=1024)"
      ]
     },
     "metadata": {},
     "output_type": "display_data"
    }
   ],
   "source": [
    "spheres=[]\n",
    "plotter = pv.Plotter()\n",
    "for i in range(0,len(points_lig)):\n",
    "    spheres.append(pv.Sphere(center=points_lig[i], radius=0.25))\n",
    "    cols = np.tile(rgb_col[i], (spheres[i].number_of_points,1))\n",
    "    spheres[i][\"colors\"] = cols\n",
    "    plotter.add_mesh(spheres[i])\n",
    "\n",
    "plotter.add_actor(bone_actor)\n",
    "plotter.add_actor(legend)\n",
    "pv.set_plot_theme(\"document\")\n",
    "plotter.show()  # show the two spheres from two PolyData\n",
    "\n",
    "plotter.export_html(r\"C:\\Users\\mariskawesseli\\Documents\\GitLab\\2022_JCWMSK_tutorials\\SSMtibia.html\")"
   ]
  },
  {
   "cell_type": "code",
   "execution_count": 21,
   "id": "0b196960-88d0-471c-9bec-a7231a969c85",
   "metadata": {},
   "outputs": [],
   "source": [
    "# plotter = pv.Plotter(window_size=(900, 900),notebook=True)\n",
    "# mesh= pv.read(r\"C:\\Users\\mariskawesseli\\Documents\\GitLab\\tibia_lig_ply_col.ply\")\n",
    "# scalars = mesh['RGBA']\n",
    "# plotter.add_actor(bone_actor)\n",
    "# plotter.add_mesh(mesh, show_scalar_bar=False, scalars=scalars[:,0:3])\n",
    "# plotter.add_actor(legend)\n",
    "# pv.set_plot_theme(\"document\")\n",
    "# plotter.show()\n",
    "\n",
    "# plotter.export_html(r\"C:\\Users\\mariskawesseli\\Documents\\GitLab\\2022_JCWMSK_tutorials\\SSMtibia.html\")"
   ]
  },
  {
   "cell_type": "code",
   "execution_count": null,
   "id": "46d052da",
   "metadata": {},
   "outputs": [],
   "source": []
  }
 ],
 "metadata": {
  "kernelspec": {
   "display_name": "Python 3 (ipykernel)",
   "language": "python",
   "name": "python3"
  },
  "language_info": {
   "codemirror_mode": {
    "name": "ipython",
    "version": 3
   },
   "file_extension": ".py",
   "mimetype": "text/x-python",
   "name": "python",
   "nbconvert_exporter": "python",
   "pygments_lexer": "ipython3",
   "version": "3.9.12"
  },
  "latex_envs": {
   "LaTeX_envs_menu_present": true,
   "autoclose": false,
   "autocomplete": true,
   "bibliofile": "biblio.bib",
   "cite_by": "apalike",
   "current_citInitial": 1,
   "eqLabelWithNumbers": true,
   "eqNumInitial": 1,
   "hotkeys": {
    "equation": "Ctrl-E",
    "itemize": "Ctrl-I"
   },
   "labels_anchors": false,
   "latex_user_defs": false,
   "report_style_numbering": false,
   "user_envs_cfg": false
  },
  "toc": {
   "base_numbering": 1,
   "nav_menu": {},
   "number_sections": true,
   "sideBar": true,
   "skip_h1_title": false,
   "title_cell": "Table of Contents",
   "title_sidebar": "Contents",
   "toc_cell": false,
   "toc_position": {},
   "toc_section_display": true,
   "toc_window_display": false
  }
 },
 "nbformat": 4,
 "nbformat_minor": 5
}
